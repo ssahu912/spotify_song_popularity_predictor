{
 "cells": [
  {
   "source": [
    "# Spotify songs popularity prediction\n",
    "Using other features of the songs predict what might be the popularity of the song."
   ],
   "cell_type": "markdown",
   "metadata": {}
  },
  {
   "cell_type": "code",
   "execution_count": 1,
   "metadata": {},
   "outputs": [],
   "source": [
    "# importing needed EDA libs\n",
    "import numpy as np\n",
    "import pandas as pd \n",
    "import matplotlib.pyplot as plt"
   ]
  },
  {
   "cell_type": "code",
   "execution_count": 2,
   "metadata": {},
   "outputs": [],
   "source": [
    "df = pd.read_csv(\"./data/data.csv\")"
   ]
  },
  {
   "cell_type": "code",
   "execution_count": 6,
   "metadata": {},
   "outputs": [
    {
     "output_type": "execute_result",
     "data": {
      "text/plain": [
       "        acousticness                             artists  danceability  \\\n",
       "169904        0.1730              ['DripReport', 'Tyga']         0.875   \n",
       "169905        0.0167  ['Leon Bridges', 'Terrace Martin']         0.719   \n",
       "169906        0.5380               ['Kygo', 'Oh Wonder']         0.514   \n",
       "169907        0.0714       ['Cash Cash', 'Andy Grammer']         0.646   \n",
       "169908        0.1090                  ['Ingrid Andress']         0.512   \n",
       "\n",
       "        duration_ms  energy  explicit                      id  \\\n",
       "169904       163800   0.443         1  4KppkflX7I3vJQk7urOJaS   \n",
       "169905       167468   0.385         0  1ehhGlTvjtHo2e4xJFB0SZ   \n",
       "169906       180700   0.539         0  52eycxprLhK3lPcRLbQiVk   \n",
       "169907       167308   0.761         0  3wYOGJYD31sLRmBgCvWxa4   \n",
       "169908       214787   0.428         0  60RFlt48hm0l4Fu0JoccOl   \n",
       "\n",
       "        instrumentalness  key  liveness  loudness  mode  \\\n",
       "169904          0.000032    1    0.0891    -7.461     1   \n",
       "169905          0.031300    8    0.1110   -10.907     1   \n",
       "169906          0.002330    7    0.1080    -9.332     1   \n",
       "169907          0.000000    1    0.2220    -2.557     1   \n",
       "169908          0.000000    0    0.1050    -7.387     1   \n",
       "\n",
       "                                  name  popularity release_date  speechiness  \\\n",
       "169904   Skechers (feat. Tyga) - Remix          75   2020-05-15       0.1430   \n",
       "169905  Sweeter (feat. Terrace Martin)          64   2020-06-08       0.0403   \n",
       "169906                How Would I Know          70   2020-05-29       0.1050   \n",
       "169907                     I Found You          70   2020-02-28       0.0385   \n",
       "169908           More Hearts Than Mine          65   2020-03-27       0.0271   \n",
       "\n",
       "          tempo  valence  year  \n",
       "169904  100.012    0.306  2020  \n",
       "169905  128.000    0.270  2020  \n",
       "169906  123.700    0.153  2020  \n",
       "169907  129.916    0.472  2020  \n",
       "169908   80.588    0.366  2020  "
      ],
      "text/html": "<div>\n<style scoped>\n    .dataframe tbody tr th:only-of-type {\n        vertical-align: middle;\n    }\n\n    .dataframe tbody tr th {\n        vertical-align: top;\n    }\n\n    .dataframe thead th {\n        text-align: right;\n    }\n</style>\n<table border=\"1\" class=\"dataframe\">\n  <thead>\n    <tr style=\"text-align: right;\">\n      <th></th>\n      <th>acousticness</th>\n      <th>artists</th>\n      <th>danceability</th>\n      <th>duration_ms</th>\n      <th>energy</th>\n      <th>explicit</th>\n      <th>id</th>\n      <th>instrumentalness</th>\n      <th>key</th>\n      <th>liveness</th>\n      <th>loudness</th>\n      <th>mode</th>\n      <th>name</th>\n      <th>popularity</th>\n      <th>release_date</th>\n      <th>speechiness</th>\n      <th>tempo</th>\n      <th>valence</th>\n      <th>year</th>\n    </tr>\n  </thead>\n  <tbody>\n    <tr>\n      <th>169904</th>\n      <td>0.1730</td>\n      <td>['DripReport', 'Tyga']</td>\n      <td>0.875</td>\n      <td>163800</td>\n      <td>0.443</td>\n      <td>1</td>\n      <td>4KppkflX7I3vJQk7urOJaS</td>\n      <td>0.000032</td>\n      <td>1</td>\n      <td>0.0891</td>\n      <td>-7.461</td>\n      <td>1</td>\n      <td>Skechers (feat. Tyga) - Remix</td>\n      <td>75</td>\n      <td>2020-05-15</td>\n      <td>0.1430</td>\n      <td>100.012</td>\n      <td>0.306</td>\n      <td>2020</td>\n    </tr>\n    <tr>\n      <th>169905</th>\n      <td>0.0167</td>\n      <td>['Leon Bridges', 'Terrace Martin']</td>\n      <td>0.719</td>\n      <td>167468</td>\n      <td>0.385</td>\n      <td>0</td>\n      <td>1ehhGlTvjtHo2e4xJFB0SZ</td>\n      <td>0.031300</td>\n      <td>8</td>\n      <td>0.1110</td>\n      <td>-10.907</td>\n      <td>1</td>\n      <td>Sweeter (feat. Terrace Martin)</td>\n      <td>64</td>\n      <td>2020-06-08</td>\n      <td>0.0403</td>\n      <td>128.000</td>\n      <td>0.270</td>\n      <td>2020</td>\n    </tr>\n    <tr>\n      <th>169906</th>\n      <td>0.5380</td>\n      <td>['Kygo', 'Oh Wonder']</td>\n      <td>0.514</td>\n      <td>180700</td>\n      <td>0.539</td>\n      <td>0</td>\n      <td>52eycxprLhK3lPcRLbQiVk</td>\n      <td>0.002330</td>\n      <td>7</td>\n      <td>0.1080</td>\n      <td>-9.332</td>\n      <td>1</td>\n      <td>How Would I Know</td>\n      <td>70</td>\n      <td>2020-05-29</td>\n      <td>0.1050</td>\n      <td>123.700</td>\n      <td>0.153</td>\n      <td>2020</td>\n    </tr>\n    <tr>\n      <th>169907</th>\n      <td>0.0714</td>\n      <td>['Cash Cash', 'Andy Grammer']</td>\n      <td>0.646</td>\n      <td>167308</td>\n      <td>0.761</td>\n      <td>0</td>\n      <td>3wYOGJYD31sLRmBgCvWxa4</td>\n      <td>0.000000</td>\n      <td>1</td>\n      <td>0.2220</td>\n      <td>-2.557</td>\n      <td>1</td>\n      <td>I Found You</td>\n      <td>70</td>\n      <td>2020-02-28</td>\n      <td>0.0385</td>\n      <td>129.916</td>\n      <td>0.472</td>\n      <td>2020</td>\n    </tr>\n    <tr>\n      <th>169908</th>\n      <td>0.1090</td>\n      <td>['Ingrid Andress']</td>\n      <td>0.512</td>\n      <td>214787</td>\n      <td>0.428</td>\n      <td>0</td>\n      <td>60RFlt48hm0l4Fu0JoccOl</td>\n      <td>0.000000</td>\n      <td>0</td>\n      <td>0.1050</td>\n      <td>-7.387</td>\n      <td>1</td>\n      <td>More Hearts Than Mine</td>\n      <td>65</td>\n      <td>2020-03-27</td>\n      <td>0.0271</td>\n      <td>80.588</td>\n      <td>0.366</td>\n      <td>2020</td>\n    </tr>\n  </tbody>\n</table>\n</div>"
     },
     "metadata": {},
     "execution_count": 6
    }
   ],
   "source": [
    "df.tail()"
   ]
  },
  {
   "cell_type": "code",
   "execution_count": 7,
   "metadata": {},
   "outputs": [
    {
     "output_type": "execute_result",
     "data": {
      "text/plain": [
       "acousticness        float64\n",
       "artists              object\n",
       "danceability        float64\n",
       "duration_ms           int64\n",
       "energy              float64\n",
       "explicit              int64\n",
       "id                   object\n",
       "instrumentalness    float64\n",
       "key                   int64\n",
       "liveness            float64\n",
       "loudness            float64\n",
       "mode                  int64\n",
       "name                 object\n",
       "popularity            int64\n",
       "release_date         object\n",
       "speechiness         float64\n",
       "tempo               float64\n",
       "valence             float64\n",
       "year                  int64\n",
       "dtype: object"
      ]
     },
     "metadata": {},
     "execution_count": 7
    }
   ],
   "source": [
    "df.dtypes"
   ]
  },
  {
   "source": [
    "## Data Information\n",
    "According to the information given on Kaggle the data has following attributes:\n",
    "The \"data.csv\" file contains more than 160,000 songs collected from Spotify Web API, and also you can find data grouped by artist, year, or genre in the data section.\n",
    "\n",
    "### Primary:\n",
    "- id (Id of track generated by Spotify)\n",
    "### Numerical:\n",
    "- acousticness (Ranges from 0 to 1)\n",
    "- danceability (Ranges from 0 to 1)\n",
    "- energy (Ranges from 0 to 1)\n",
    "- duration_ms (Integer typically ranging from 200k to 300k)\n",
    "- instrumentalness (Ranges from 0 to 1)\n",
    "- valence (Ranges from 0 to 1)\n",
    "- popularity (Ranges from 0 to 100)\n",
    "- tempo (Float typically ranging from 50 to 150)\n",
    "- liveness (Ranges from 0 to 1)\n",
    "- loudness (Float typically ranging from -60 to 0)\n",
    "- speechiness (Ranges from 0 to 1)\n",
    "- year (Ranges from 1921 to 2020)\n",
    "### Dummy:\n",
    "- mode (0 = Minor, 1 = Major)\n",
    "- explicit (0 = No explicit content, 1 = Explicit content)\n",
    "### Categorical:\n",
    "- key (All keys on octave encoded as values ranging from 0 to 11, starting on C as 0, C# as 1 and so on…)\n",
    "- artists (List of artists mentioned)\n",
    "- release_date (Date of release mostly in yyyy-mm-dd format, however precision of date may vary)\n",
    "- name (Name of the song)\n"
   ],
   "cell_type": "markdown",
   "metadata": {}
  },
  {
   "cell_type": "code",
   "execution_count": null,
   "metadata": {},
   "outputs": [],
   "source": []
  }
 ],
 "metadata": {
  "kernelspec": {
   "display_name": "Python 3",
   "language": "python",
   "name": "python3"
  },
  "language_info": {
   "codemirror_mode": {
    "name": "ipython",
    "version": 3
   },
   "file_extension": ".py",
   "mimetype": "text/x-python",
   "name": "python",
   "nbconvert_exporter": "python",
   "pygments_lexer": "ipython3",
   "version": "3.8.5-final"
  }
 },
 "nbformat": 4,
 "nbformat_minor": 4
}